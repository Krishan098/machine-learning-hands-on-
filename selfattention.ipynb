{
 "cells": [
  {
   "cell_type": "code",
   "execution_count": 2,
   "metadata": {},
   "outputs": [],
   "source": [
    "import torch\n",
    "import torch.nn as nn\n",
    "import torch.nn.functional as F"
   ]
  },
  {
   "cell_type": "code",
   "execution_count": 3,
   "metadata": {},
   "outputs": [],
   "source": [
    "class selfAttention(nn.Module):\n",
    "    def __init__(self,d_model=2,row_dim=0,col_dim=1):#d_model to define the size of the weigth matrices that we'll use to create the queries, keys and values\n",
    "        super().__init__()\n",
    "        self.W_q=nn.Linear(in_features=d_model,out_features=d_model,bias=False)\n",
    "        self.W_k=nn.Linear(in_features=d_model,out_features=d_model,bias=False)\n",
    "        self.W_v=nn.Linear(in_features=d_model,out_features=d_model,bias=False)\n",
    "        self.row_dim=row_dim\n",
    "        self.col_dim=col_dim\n",
    "    def forward(self, token_encodings):\n",
    "        q=self.W_q(token_encodings)\n",
    "        k=self.W_k(token_encodings)\n",
    "        v=self.W_v(token_encodings)\n",
    "        sims=torch.matmul(q,k.transpose(dim0=self.row_dim,dim1=self.col_dim))\n",
    "        scaled_sims=sims/torch.tensor(k.size(self.col_dim)**0.5)\n",
    "        attention_percents=F.softmax(scaled_sims,dim=self.col_dim)\n",
    "        attention_scores=torch.matmul(attention_percents,v)\n",
    "        return attention_scores\n",
    "\n",
    "        \n",
    "         \n",
    "        "
   ]
  },
  {
   "cell_type": "code",
   "execution_count": 5,
   "metadata": {},
   "outputs": [
    {
     "data": {
      "text/plain": [
       "tensor([[1.0100, 1.0641],\n",
       "        [0.2040, 0.7057],\n",
       "        [3.4989, 2.2427]], grad_fn=<MmBackward0>)"
      ]
     },
     "execution_count": 5,
     "metadata": {},
     "output_type": "execute_result"
    }
   ],
   "source": [
    "encodings_matrix=torch.tensor([[1.16,0.23],\n",
    "                               [0.57,1.36],\n",
    "                               [4.41,-2.16]])\n",
    "torch.manual_seed(42)\n",
    "selfAttention=selfAttention(d_model=2,\n",
    "                            row_dim=0,\n",
    "                            col_dim=1)\n",
    "selfAttention(encodings_matrix)"
   ]
  },
  {
   "cell_type": "code",
   "execution_count": null,
   "metadata": {},
   "outputs": [],
   "source": [
    " "
   ]
  }
 ],
 "metadata": {
  "kernelspec": {
   "display_name": "Python 3",
   "language": "python",
   "name": "python3"
  },
  "language_info": {
   "codemirror_mode": {
    "name": "ipython",
    "version": 3
   },
   "file_extension": ".py",
   "mimetype": "text/x-python",
   "name": "python",
   "nbconvert_exporter": "python",
   "pygments_lexer": "ipython3",
   "version": "3.11.5"
  }
 },
 "nbformat": 4,
 "nbformat_minor": 2
}
