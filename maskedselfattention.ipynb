{
 "cells": [
  {
   "cell_type": "code",
   "execution_count": 1,
   "metadata": {},
   "outputs": [],
   "source": [
    "import torch\n",
    "import torch.nn as nn\n",
    "import torch.nn.functional as F"
   ]
  },
  {
   "cell_type": "code",
   "execution_count": 11,
   "metadata": {},
   "outputs": [],
   "source": [
    "class maskedSelfAttention(nn.Module):\n",
    "    def __init__(self,d_model=2,row_dim=0,col_dim=1):\n",
    "        super().__init__()\n",
    "        self.W_q=nn.Linear(in_features=d_model,out_features=d_model,bias=False)\n",
    "        self.W_k=nn.Linear(in_features=d_model,out_features=d_model,bias=False)\n",
    "        self.W_v=nn.Linear(in_features=d_model,out_features=d_model,bias=False)\n",
    "        self.row_dim=row_dim\n",
    "        self.col_dim=col_dim\n",
    "    def forward(self,token_encodings,mask=None):\n",
    "        q=self.W_q(token_encodings)\n",
    "        k=self.W_k(token_encodings)\n",
    "        v=self.W_v(token_encodings)\n",
    "        sims=torch.matmul(q,k.transpose(dim0=self.row_dim,dim1=self.col_dim))\n",
    "        scaled_sims=sims/torch.tensor(k.size(self.col_dim)**0.5)\n",
    "        if mask is not None:\n",
    "            scaled_sims=scaled_sims.masked_fill(mask=mask,value=-1e9)\n",
    "        attention_percents=F.softmax(scaled_sims,dim=self.col_dim)\n",
    "        attention_scores=torch.matmul(attention_percents,v)\n",
    "        return attention_scores\n",
    "        \n",
    "            "
   ]
  },
  {
   "cell_type": "code",
   "execution_count": 12,
   "metadata": {},
   "outputs": [],
   "source": [
    "encodings_matrix=torch.tensor([[1.16,0.23],\n",
    "                               [0.57,1.36],\n",
    "                               [4.41,-2.16]])\n",
    "torch.manual_seed(42)\n",
    "maskedSelfAttention=maskedSelfAttention(d_model=2,row_dim=0,col_dim=1)\n",
    "mask=torch.tril(torch.ones(3,3))"
   ]
  },
  {
   "cell_type": "code",
   "execution_count": 13,
   "metadata": {},
   "outputs": [
    {
     "data": {
      "text/plain": [
       "tensor([[False,  True,  True],\n",
       "        [False, False,  True],\n",
       "        [False, False, False]])"
      ]
     },
     "execution_count": 13,
     "metadata": {},
     "output_type": "execute_result"
    }
   ],
   "source": [
    "mask=mask==0\n",
    "mask"
   ]
  },
  {
   "cell_type": "code",
   "execution_count": 14,
   "metadata": {},
   "outputs": [
    {
     "data": {
      "text/plain": [
       "tensor([[ 0.6038,  0.7434],\n",
       "        [-0.0062,  0.6072],\n",
       "        [ 3.4989,  2.2427]], grad_fn=<MmBackward0>)"
      ]
     },
     "execution_count": 14,
     "metadata": {},
     "output_type": "execute_result"
    }
   ],
   "source": [
    "maskedSelfAttention(encodings_matrix,mask)"
   ]
  },
  {
   "cell_type": "code",
   "execution_count": 16,
   "metadata": {},
   "outputs": [
    {
     "data": {
      "text/plain": [
       "tensor([[ 0.5406, -0.1657],\n",
       "        [ 0.5869,  0.6496]], grad_fn=<TransposeBackward0>)"
      ]
     },
     "execution_count": 16,
     "metadata": {},
     "output_type": "execute_result"
    }
   ],
   "source": [
    "maskedSelfAttention.W_q.weight.transpose(0,1)"
   ]
  },
  {
   "cell_type": "code",
   "execution_count": 17,
   "metadata": {},
   "outputs": [
    {
     "data": {
      "text/plain": [
       "tensor([[ 0.6038,  0.7434],\n",
       "        [-0.3502,  0.5303],\n",
       "        [ 3.8695,  2.4246]], grad_fn=<MmBackward0>)"
      ]
     },
     "execution_count": 17,
     "metadata": {},
     "output_type": "execute_result"
    }
   ],
   "source": [
    "maskedSelfAttention.W_v(encodings_matrix)"
   ]
  },
  {
   "cell_type": "code",
   "execution_count": null,
   "metadata": {},
   "outputs": [],
   "source": []
  }
 ],
 "metadata": {
  "kernelspec": {
   "display_name": "Python 3",
   "language": "python",
   "name": "python3"
  },
  "language_info": {
   "codemirror_mode": {
    "name": "ipython",
    "version": 3
   },
   "file_extension": ".py",
   "mimetype": "text/x-python",
   "name": "python",
   "nbconvert_exporter": "python",
   "pygments_lexer": "ipython3",
   "version": "3.11.5"
  }
 },
 "nbformat": 4,
 "nbformat_minor": 2
}
